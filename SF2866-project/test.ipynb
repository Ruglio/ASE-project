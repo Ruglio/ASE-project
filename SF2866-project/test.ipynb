{
 "cells": [
  {
   "cell_type": "code",
   "execution_count": 1,
   "metadata": {},
   "outputs": [
    {
     "data": {
      "application/javascript": "(function(root) {\n  function now() {\n    return new Date();\n  }\n\n  var force = true;\n  var py_version = '3.1.1'.replace('rc', '-rc.').replace('.dev', '-dev.');\n  var is_dev = py_version.indexOf(\"+\") !== -1 || py_version.indexOf(\"-\") !== -1;\n  var reloading = false;\n  var Bokeh = root.Bokeh;\n  var bokeh_loaded = Bokeh != null && (Bokeh.version === py_version || (Bokeh.versions !== undefined && Bokeh.versions.has(py_version)));\n\n  if (typeof (root._bokeh_timeout) === \"undefined\" || force) {\n    root._bokeh_timeout = Date.now() + 5000;\n    root._bokeh_failed_load = false;\n  }\n\n  function run_callbacks() {\n    try {\n      root._bokeh_onload_callbacks.forEach(function(callback) {\n        if (callback != null)\n          callback();\n      });\n    } finally {\n      delete root._bokeh_onload_callbacks;\n    }\n    console.debug(\"Bokeh: all callbacks have finished\");\n  }\n\n  function load_libs(css_urls, js_urls, js_modules, js_exports, callback) {\n    if (css_urls == null) css_urls = [];\n    if (js_urls == null) js_urls = [];\n    if (js_modules == null) js_modules = [];\n    if (js_exports == null) js_exports = {};\n\n    root._bokeh_onload_callbacks.push(callback);\n\n    if (root._bokeh_is_loading > 0) {\n      console.debug(\"Bokeh: BokehJS is being loaded, scheduling callback at\", now());\n      return null;\n    }\n    if (js_urls.length === 0 && js_modules.length === 0 && Object.keys(js_exports).length === 0) {\n      run_callbacks();\n      return null;\n    }\n    if (!reloading) {\n      console.debug(\"Bokeh: BokehJS not loaded, scheduling load and callback at\", now());\n    }\n\n    function on_load() {\n      root._bokeh_is_loading--;\n      if (root._bokeh_is_loading === 0) {\n        console.debug(\"Bokeh: all BokehJS libraries/stylesheets loaded\");\n        run_callbacks()\n      }\n    }\n    window._bokeh_on_load = on_load\n\n    function on_error() {\n      console.error(\"failed to load \" + url);\n    }\n\n    var skip = [];\n    if (window.requirejs) {\n      window.requirejs.config({'packages': {}, 'paths': {'jspanel': 'https://cdn.jsdelivr.net/npm/jspanel4@4.12.0/dist/jspanel', 'jspanel-modal': 'https://cdn.jsdelivr.net/npm/jspanel4@4.12.0/dist/extensions/modal/jspanel.modal', 'jspanel-tooltip': 'https://cdn.jsdelivr.net/npm/jspanel4@4.12.0/dist/extensions/tooltip/jspanel.tooltip', 'jspanel-hint': 'https://cdn.jsdelivr.net/npm/jspanel4@4.12.0/dist/extensions/hint/jspanel.hint', 'jspanel-layout': 'https://cdn.jsdelivr.net/npm/jspanel4@4.12.0/dist/extensions/layout/jspanel.layout', 'jspanel-contextmenu': 'https://cdn.jsdelivr.net/npm/jspanel4@4.12.0/dist/extensions/contextmenu/jspanel.contextmenu', 'jspanel-dock': 'https://cdn.jsdelivr.net/npm/jspanel4@4.12.0/dist/extensions/dock/jspanel.dock', 'gridstack': 'https://cdn.jsdelivr.net/npm/gridstack@7.2.3/dist/gridstack-all', 'notyf': 'https://cdn.jsdelivr.net/npm/notyf@3/notyf.min'}, 'shim': {'jspanel': {'exports': 'jsPanel'}, 'gridstack': {'exports': 'GridStack'}}});\n      require([\"jspanel\"], function(jsPanel) {\n\twindow.jsPanel = jsPanel\n\ton_load()\n      })\n      require([\"jspanel-modal\"], function() {\n\ton_load()\n      })\n      require([\"jspanel-tooltip\"], function() {\n\ton_load()\n      })\n      require([\"jspanel-hint\"], function() {\n\ton_load()\n      })\n      require([\"jspanel-layout\"], function() {\n\ton_load()\n      })\n      require([\"jspanel-contextmenu\"], function() {\n\ton_load()\n      })\n      require([\"jspanel-dock\"], function() {\n\ton_load()\n      })\n      require([\"gridstack\"], function(GridStack) {\n\twindow.GridStack = GridStack\n\ton_load()\n      })\n      require([\"notyf\"], function() {\n\ton_load()\n      })\n      root._bokeh_is_loading = css_urls.length + 9;\n    } else {\n      root._bokeh_is_loading = css_urls.length + js_urls.length + js_modules.length + Object.keys(js_exports).length;\n    }\n\n    var existing_stylesheets = []\n    var links = document.getElementsByTagName('link')\n    for (var i = 0; i < links.length; i++) {\n      var link = links[i]\n      if (link.href != null) {\n\texisting_stylesheets.push(link.href)\n      }\n    }\n    for (var i = 0; i < css_urls.length; i++) {\n      var url = css_urls[i];\n      if (existing_stylesheets.indexOf(url) !== -1) {\n\ton_load()\n\tcontinue;\n      }\n      const element = document.createElement(\"link\");\n      element.onload = on_load;\n      element.onerror = on_error;\n      element.rel = \"stylesheet\";\n      element.type = \"text/css\";\n      element.href = url;\n      console.debug(\"Bokeh: injecting link tag for BokehJS stylesheet: \", url);\n      document.body.appendChild(element);\n    }    if (((window['jsPanel'] !== undefined) && (!(window['jsPanel'] instanceof HTMLElement))) || window.requirejs) {\n      var urls = ['https://cdn.holoviz.org/panel/1.2.2/dist/bundled/floatpanel/jspanel4@4.12.0/dist/jspanel.js', 'https://cdn.holoviz.org/panel/1.2.2/dist/bundled/floatpanel/jspanel4@4.12.0/dist/extensions/modal/jspanel.modal.js', 'https://cdn.holoviz.org/panel/1.2.2/dist/bundled/floatpanel/jspanel4@4.12.0/dist/extensions/tooltip/jspanel.tooltip.js', 'https://cdn.holoviz.org/panel/1.2.2/dist/bundled/floatpanel/jspanel4@4.12.0/dist/extensions/hint/jspanel.hint.js', 'https://cdn.holoviz.org/panel/1.2.2/dist/bundled/floatpanel/jspanel4@4.12.0/dist/extensions/layout/jspanel.layout.js', 'https://cdn.holoviz.org/panel/1.2.2/dist/bundled/floatpanel/jspanel4@4.12.0/dist/extensions/contextmenu/jspanel.contextmenu.js', 'https://cdn.holoviz.org/panel/1.2.2/dist/bundled/floatpanel/jspanel4@4.12.0/dist/extensions/dock/jspanel.dock.js'];\n      for (var i = 0; i < urls.length; i++) {\n        skip.push(urls[i])\n      }\n    }    if (((window['GridStack'] !== undefined) && (!(window['GridStack'] instanceof HTMLElement))) || window.requirejs) {\n      var urls = ['https://cdn.holoviz.org/panel/1.2.2/dist/bundled/gridstack/gridstack@7.2.3/dist/gridstack-all.js'];\n      for (var i = 0; i < urls.length; i++) {\n        skip.push(urls[i])\n      }\n    }    if (((window['Notyf'] !== undefined) && (!(window['Notyf'] instanceof HTMLElement))) || window.requirejs) {\n      var urls = ['https://cdn.holoviz.org/panel/1.2.2/dist/bundled/notificationarea/notyf@3/notyf.min.js'];\n      for (var i = 0; i < urls.length; i++) {\n        skip.push(urls[i])\n      }\n    }    var existing_scripts = []\n    var scripts = document.getElementsByTagName('script')\n    for (var i = 0; i < scripts.length; i++) {\n      var script = scripts[i]\n      if (script.src != null) {\n\texisting_scripts.push(script.src)\n      }\n    }\n    for (var i = 0; i < js_urls.length; i++) {\n      var url = js_urls[i];\n      if (skip.indexOf(url) !== -1 || existing_scripts.indexOf(url) !== -1) {\n\tif (!window.requirejs) {\n\t  on_load();\n\t}\n\tcontinue;\n      }\n      var element = document.createElement('script');\n      element.onload = on_load;\n      element.onerror = on_error;\n      element.async = false;\n      element.src = url;\n      console.debug(\"Bokeh: injecting script tag for BokehJS library: \", url);\n      document.head.appendChild(element);\n    }\n    for (var i = 0; i < js_modules.length; i++) {\n      var url = js_modules[i];\n      if (skip.indexOf(url) !== -1 || existing_scripts.indexOf(url) !== -1) {\n\tif (!window.requirejs) {\n\t  on_load();\n\t}\n\tcontinue;\n      }\n      var element = document.createElement('script');\n      element.onload = on_load;\n      element.onerror = on_error;\n      element.async = false;\n      element.src = url;\n      element.type = \"module\";\n      console.debug(\"Bokeh: injecting script tag for BokehJS library: \", url);\n      document.head.appendChild(element);\n    }\n    for (const name in js_exports) {\n      var url = js_exports[name];\n      if (skip.indexOf(url) >= 0 || root[name] != null) {\n\tif (!window.requirejs) {\n\t  on_load();\n\t}\n\tcontinue;\n      }\n      var element = document.createElement('script');\n      element.onerror = on_error;\n      element.async = false;\n      element.type = \"module\";\n      console.debug(\"Bokeh: injecting script tag for BokehJS library: \", url);\n      element.textContent = `\n      import ${name} from \"${url}\"\n      window.${name} = ${name}\n      window._bokeh_on_load()\n      `\n      document.head.appendChild(element);\n    }\n    if (!js_urls.length && !js_modules.length) {\n      on_load()\n    }\n  };\n\n  function inject_raw_css(css) {\n    const element = document.createElement(\"style\");\n    element.appendChild(document.createTextNode(css));\n    document.body.appendChild(element);\n  }\n\n  var js_urls = [\"https://cdn.bokeh.org/bokeh/release/bokeh-3.1.1.min.js\", \"https://cdn.bokeh.org/bokeh/release/bokeh-gl-3.1.1.min.js\", \"https://cdn.bokeh.org/bokeh/release/bokeh-widgets-3.1.1.min.js\", \"https://cdn.bokeh.org/bokeh/release/bokeh-tables-3.1.1.min.js\", \"https://cdn.holoviz.org/panel/1.2.2/dist/panel.min.js\"];\n  var js_modules = [];\n  var js_exports = {};\n  var css_urls = [];\n  var inline_js = [    function(Bokeh) {\n      Bokeh.set_log_level(\"info\");\n    },\nfunction(Bokeh) {} // ensure no trailing comma for IE\n  ];\n\n  function run_inline_js() {\n    if ((root.Bokeh !== undefined) || (force === true)) {\n      for (var i = 0; i < inline_js.length; i++) {\n        inline_js[i].call(root, root.Bokeh);\n      }\n      // Cache old bokeh versions\n      if (Bokeh != undefined && !reloading) {\n\tvar NewBokeh = root.Bokeh;\n\tif (Bokeh.versions === undefined) {\n\t  Bokeh.versions = new Map();\n\t}\n\tif (NewBokeh.version !== Bokeh.version) {\n\t  Bokeh.versions.set(NewBokeh.version, NewBokeh)\n\t}\n\troot.Bokeh = Bokeh;\n      }} else if (Date.now() < root._bokeh_timeout) {\n      setTimeout(run_inline_js, 100);\n    } else if (!root._bokeh_failed_load) {\n      console.log(\"Bokeh: BokehJS failed to load within specified timeout.\");\n      root._bokeh_failed_load = true;\n    }\n    root._bokeh_is_initializing = false\n  }\n\n  function load_or_wait() {\n    // Implement a backoff loop that tries to ensure we do not load multiple\n    // versions of Bokeh and its dependencies at the same time.\n    // In recent versions we use the root._bokeh_is_initializing flag\n    // to determine whether there is an ongoing attempt to initialize\n    // bokeh, however for backward compatibility we also try to ensure\n    // that we do not start loading a newer (Panel>=1.0 and Bokeh>3) version\n    // before older versions are fully initialized.\n    if (root._bokeh_is_initializing && Date.now() > root._bokeh_timeout) {\n      root._bokeh_is_initializing = false;\n      root._bokeh_onload_callbacks = undefined;\n      console.log(\"Bokeh: BokehJS was loaded multiple times but one version failed to initialize.\");\n      load_or_wait();\n    } else if (root._bokeh_is_initializing || (typeof root._bokeh_is_initializing === \"undefined\" && root._bokeh_onload_callbacks !== undefined)) {\n      setTimeout(load_or_wait, 100);\n    } else {\n      Bokeh = root.Bokeh;\n      bokeh_loaded = Bokeh != null && (Bokeh.version === py_version || (Bokeh.versions !== undefined && Bokeh.versions.has(py_version)));\n      root._bokeh_is_initializing = true\n      root._bokeh_onload_callbacks = []\n      if (!reloading && (!bokeh_loaded || is_dev)) {\n\troot.Bokeh = undefined;\n      }\n      load_libs(css_urls, js_urls, js_modules, js_exports, function() {\n\tconsole.debug(\"Bokeh: BokehJS plotting callback run at\", now());\n\trun_inline_js();\n      });\n    }\n  }\n  // Give older versions of the autoload script a head-start to ensure\n  // they initialize before we start loading newer version.\n  setTimeout(load_or_wait, 100)\n}(window));",
      "application/vnd.holoviews_load.v0+json": ""
     },
     "metadata": {},
     "output_type": "display_data"
    },
    {
     "data": {
      "application/javascript": "\nif ((window.PyViz === undefined) || (window.PyViz instanceof HTMLElement)) {\n  window.PyViz = {comms: {}, comm_status:{}, kernels:{}, receivers: {}, plot_index: []}\n}\n\n\n    function JupyterCommManager() {\n    }\n\n    JupyterCommManager.prototype.register_target = function(plot_id, comm_id, msg_handler) {\n      if (window.comm_manager || ((window.Jupyter !== undefined) && (Jupyter.notebook.kernel != null))) {\n        var comm_manager = window.comm_manager || Jupyter.notebook.kernel.comm_manager;\n        comm_manager.register_target(comm_id, function(comm) {\n          comm.on_msg(msg_handler);\n        });\n      } else if ((plot_id in window.PyViz.kernels) && (window.PyViz.kernels[plot_id])) {\n        window.PyViz.kernels[plot_id].registerCommTarget(comm_id, function(comm) {\n          comm.onMsg = msg_handler;\n        });\n      } else if (typeof google != 'undefined' && google.colab.kernel != null) {\n        google.colab.kernel.comms.registerTarget(comm_id, (comm) => {\n          var messages = comm.messages[Symbol.asyncIterator]();\n          function processIteratorResult(result) {\n            var message = result.value;\n            console.log(message)\n            var content = {data: message.data, comm_id};\n            var buffers = []\n            for (var buffer of message.buffers || []) {\n              buffers.push(new DataView(buffer))\n            }\n            var metadata = message.metadata || {};\n            var msg = {content, buffers, metadata}\n            msg_handler(msg);\n            return messages.next().then(processIteratorResult);\n          }\n          return messages.next().then(processIteratorResult);\n        })\n      }\n    }\n\n    JupyterCommManager.prototype.get_client_comm = function(plot_id, comm_id, msg_handler) {\n      if (comm_id in window.PyViz.comms) {\n        return window.PyViz.comms[comm_id];\n      } else if (window.comm_manager || ((window.Jupyter !== undefined) && (Jupyter.notebook.kernel != null))) {\n        var comm_manager = window.comm_manager || Jupyter.notebook.kernel.comm_manager;\n        var comm = comm_manager.new_comm(comm_id, {}, {}, {}, comm_id);\n        if (msg_handler) {\n          comm.on_msg(msg_handler);\n        }\n      } else if ((plot_id in window.PyViz.kernels) && (window.PyViz.kernels[plot_id])) {\n        var comm = window.PyViz.kernels[plot_id].connectToComm(comm_id);\n        comm.open();\n        if (msg_handler) {\n          comm.onMsg = msg_handler;\n        }\n      } else if (typeof google != 'undefined' && google.colab.kernel != null) {\n        var comm_promise = google.colab.kernel.comms.open(comm_id)\n        comm_promise.then((comm) => {\n          window.PyViz.comms[comm_id] = comm;\n          if (msg_handler) {\n            var messages = comm.messages[Symbol.asyncIterator]();\n            function processIteratorResult(result) {\n              var message = result.value;\n              var content = {data: message.data};\n              var metadata = message.metadata || {comm_id};\n              var msg = {content, metadata}\n              msg_handler(msg);\n              return messages.next().then(processIteratorResult);\n            }\n            return messages.next().then(processIteratorResult);\n          }\n        }) \n        var sendClosure = (data, metadata, buffers, disposeOnDone) => {\n          return comm_promise.then((comm) => {\n            comm.send(data, metadata, buffers, disposeOnDone);\n          });\n        };\n        var comm = {\n          send: sendClosure\n        };\n      }\n      window.PyViz.comms[comm_id] = comm;\n      return comm;\n    }\n    window.PyViz.comm_manager = new JupyterCommManager();\n    \n\n\nvar JS_MIME_TYPE = 'application/javascript';\nvar HTML_MIME_TYPE = 'text/html';\nvar EXEC_MIME_TYPE = 'application/vnd.holoviews_exec.v0+json';\nvar CLASS_NAME = 'output';\n\n/**\n * Render data to the DOM node\n */\nfunction render(props, node) {\n  var div = document.createElement(\"div\");\n  var script = document.createElement(\"script\");\n  node.appendChild(div);\n  node.appendChild(script);\n}\n\n/**\n * Handle when a new output is added\n */\nfunction handle_add_output(event, handle) {\n  var output_area = handle.output_area;\n  var output = handle.output;\n  if ((output.data == undefined) || (!output.data.hasOwnProperty(EXEC_MIME_TYPE))) {\n    return\n  }\n  var id = output.metadata[EXEC_MIME_TYPE][\"id\"];\n  var toinsert = output_area.element.find(\".\" + CLASS_NAME.split(' ')[0]);\n  if (id !== undefined) {\n    var nchildren = toinsert.length;\n    var html_node = toinsert[nchildren-1].children[0];\n    html_node.innerHTML = output.data[HTML_MIME_TYPE];\n    var scripts = [];\n    var nodelist = html_node.querySelectorAll(\"script\");\n    for (var i in nodelist) {\n      if (nodelist.hasOwnProperty(i)) {\n        scripts.push(nodelist[i])\n      }\n    }\n\n    scripts.forEach( function (oldScript) {\n      var newScript = document.createElement(\"script\");\n      var attrs = [];\n      var nodemap = oldScript.attributes;\n      for (var j in nodemap) {\n        if (nodemap.hasOwnProperty(j)) {\n          attrs.push(nodemap[j])\n        }\n      }\n      attrs.forEach(function(attr) { newScript.setAttribute(attr.name, attr.value) });\n      newScript.appendChild(document.createTextNode(oldScript.innerHTML));\n      oldScript.parentNode.replaceChild(newScript, oldScript);\n    });\n    if (JS_MIME_TYPE in output.data) {\n      toinsert[nchildren-1].children[1].textContent = output.data[JS_MIME_TYPE];\n    }\n    output_area._hv_plot_id = id;\n    if ((window.Bokeh !== undefined) && (id in Bokeh.index)) {\n      window.PyViz.plot_index[id] = Bokeh.index[id];\n    } else {\n      window.PyViz.plot_index[id] = null;\n    }\n  } else if (output.metadata[EXEC_MIME_TYPE][\"server_id\"] !== undefined) {\n    var bk_div = document.createElement(\"div\");\n    bk_div.innerHTML = output.data[HTML_MIME_TYPE];\n    var script_attrs = bk_div.children[0].attributes;\n    for (var i = 0; i < script_attrs.length; i++) {\n      toinsert[toinsert.length - 1].childNodes[1].setAttribute(script_attrs[i].name, script_attrs[i].value);\n    }\n    // store reference to server id on output_area\n    output_area._bokeh_server_id = output.metadata[EXEC_MIME_TYPE][\"server_id\"];\n  }\n}\n\n/**\n * Handle when an output is cleared or removed\n */\nfunction handle_clear_output(event, handle) {\n  var id = handle.cell.output_area._hv_plot_id;\n  var server_id = handle.cell.output_area._bokeh_server_id;\n  if (((id === undefined) || !(id in PyViz.plot_index)) && (server_id !== undefined)) { return; }\n  var comm = window.PyViz.comm_manager.get_client_comm(\"hv-extension-comm\", \"hv-extension-comm\", function () {});\n  if (server_id !== null) {\n    comm.send({event_type: 'server_delete', 'id': server_id});\n    return;\n  } else if (comm !== null) {\n    comm.send({event_type: 'delete', 'id': id});\n  }\n  delete PyViz.plot_index[id];\n  if ((window.Bokeh !== undefined) & (id in window.Bokeh.index)) {\n    var doc = window.Bokeh.index[id].model.document\n    doc.clear();\n    const i = window.Bokeh.documents.indexOf(doc);\n    if (i > -1) {\n      window.Bokeh.documents.splice(i, 1);\n    }\n  }\n}\n\n/**\n * Handle kernel restart event\n */\nfunction handle_kernel_cleanup(event, handle) {\n  delete PyViz.comms[\"hv-extension-comm\"];\n  window.PyViz.plot_index = {}\n}\n\n/**\n * Handle update_display_data messages\n */\nfunction handle_update_output(event, handle) {\n  handle_clear_output(event, {cell: {output_area: handle.output_area}})\n  handle_add_output(event, handle)\n}\n\nfunction register_renderer(events, OutputArea) {\n  function append_mime(data, metadata, element) {\n    // create a DOM node to render to\n    var toinsert = this.create_output_subarea(\n    metadata,\n    CLASS_NAME,\n    EXEC_MIME_TYPE\n    );\n    this.keyboard_manager.register_events(toinsert);\n    // Render to node\n    var props = {data: data, metadata: metadata[EXEC_MIME_TYPE]};\n    render(props, toinsert[0]);\n    element.append(toinsert);\n    return toinsert\n  }\n\n  events.on('output_added.OutputArea', handle_add_output);\n  events.on('output_updated.OutputArea', handle_update_output);\n  events.on('clear_output.CodeCell', handle_clear_output);\n  events.on('delete.Cell', handle_clear_output);\n  events.on('kernel_ready.Kernel', handle_kernel_cleanup);\n\n  OutputArea.prototype.register_mime_type(EXEC_MIME_TYPE, append_mime, {\n    safe: true,\n    index: 0\n  });\n}\n\nif (window.Jupyter !== undefined) {\n  try {\n    var events = require('base/js/events');\n    var OutputArea = require('notebook/js/outputarea').OutputArea;\n    if (OutputArea.prototype.mime_types().indexOf(EXEC_MIME_TYPE) == -1) {\n      register_renderer(events, OutputArea);\n    }\n  } catch(err) {\n  }\n}\n",
      "application/vnd.holoviews_load.v0+json": ""
     },
     "metadata": {},
     "output_type": "display_data"
    },
    {
     "data": {
      "text/html": [
       "<style>*[data-root-id],\n",
       "*[data-root-id] > * {\n",
       "  box-sizing: border-box;\n",
       "  font-family: var(--jp-ui-font-family);\n",
       "  font-size: var(--jp-ui-font-size1);\n",
       "  color: var(--vscode-editor-foreground, var(--jp-ui-font-color1));\n",
       "}\n",
       "\n",
       "/* Override VSCode background color */\n",
       ".cell-output-ipywidget-background:has(\n",
       "    > .cell-output-ipywidget-background > .lm-Widget > *[data-root-id]\n",
       "  ),\n",
       ".cell-output-ipywidget-background:has(> .lm-Widget > *[data-root-id]) {\n",
       "  background-color: transparent !important;\n",
       "}\n",
       "</style>"
      ]
     },
     "metadata": {},
     "output_type": "display_data"
    }
   ],
   "source": [
    "import re\n",
    "import numpy as np\n",
    "import random\n",
    "import time\n",
    "from datetime import datetime, timedelta\n",
    "import math\n",
    "from IPython.display import Image\n",
    "\n",
    "\n",
    "#Dataframes + read data\n",
    "import pickle\n",
    "import json \n",
    "import geojson\n",
    "import geocoder\n",
    "\n",
    "import pandas as pd      #Package for handling large data structures\n",
    "import geopandas as gpd  #http://localhost:8888/notebooks/KTH/GitHub/DF23_cycle/M_stat_all.ipynb#Package for handling geospatial data\n",
    "from geopandas import GeoDataFrame, read_file\n",
    "from pyproj import CRS   #coordinate reference system\n",
    "\n",
    "#Shapes\n",
    "from shapely.geometry import Point, LineString, Polygon, MultiPoint, MultiLineString, shape\n",
    "from shapely import wkt  #If the geo_data is in wkt-format, this package is needed to \"read\" that (wtk - well known text)\n",
    "import shapely as shp\n",
    "from shapely.geometry import box\n",
    "\n",
    "#Plotting\n",
    "import hvplot.pandas \n",
    "import matplotlib.pyplot as plt\n",
    "from holoviews import opts, dim\n",
    "import warnings\n",
    "warnings.filterwarnings('ignore')\n",
    "\n",
    "plot_defaults = {'linewidth':5, 'capstyle':'round', 'figsize':(9,3), 'legend':True}\n",
    "opts.defaults(opts.Overlay(active_tools=['wheel_zoom']))\n",
    "hvplot_defaults = {'tiles':'CartoLight', 'frame_height':320, 'frame_width':320, 'cmap':'Viridis', 'colorbar':True}\n",
    "\n",
    "import matplotlib.colors as mplcolors\n",
    "from matplotlib.cm import ScalarMappable\n",
    "import seaborn as sns\n",
    "\n",
    "#Gurobi\n",
    "import gurobipy as gp\n",
    "from gurobipy import GRB"
   ]
  },
  {
   "cell_type": "markdown",
   "metadata": {},
   "source": [
    "## Test"
   ]
  },
  {
   "cell_type": "markdown",
   "metadata": {},
   "source": [
    "There are three simple tests to check if the code is working properly.\n",
    "\n",
    "1. The nodes have a simple crux structure.\n",
    "2. The nodes have a crux structure with the addition of a left-down node to see its effect.\n",
    "3. Very very simple structure with three nodes in line to control whether the flow management (so the constraints) are right."
   ]
  },
  {
   "cell_type": "code",
   "execution_count": 2,
   "metadata": {},
   "outputs": [],
   "source": [
    "with open('Data/test4') as f:\n",
    "    test = f.read().splitlines()\n",
    "n_nodes = int(test[0])\n",
    "points = [\"point\" + str(i) for i in range(n_nodes)]\n",
    "test = test[1::]\n",
    "coords = []\n",
    "for i in range(n_nodes):\n",
    "    coords.append(Point(test[i].split(\" \")))\n",
    "test = test[n_nodes::]\n",
    "df = pd.DataFrame(columns=points, index=points)\n",
    "for i in range(n_nodes):\n",
    "    df.iloc[i] = [float(x) for x in test[i].split(\" \")]\n",
    "df[\"geometry\"] = coords\n",
    "    \n",
    "# get distance matrix from point coordinates\n",
    "gdf = gpd.GeoDataFrame(df, geometry='geometry')\n",
    "for p in range(n_nodes):\n",
    "    for q in range(n_nodes):\n",
    "        gdf.iloc[p,q] = coords[p].distance(coords[q])\n",
    "gdf[\"total_outflow\"] = df.iloc[:,:-1].sum(axis=0)\n",
    "gdf[\"total_inflow\"] = df.iloc[:,:-1].sum(axis=1)"
   ]
  },
  {
   "cell_type": "code",
   "execution_count": 3,
   "metadata": {},
   "outputs": [
    {
     "data": {
      "text/html": [
       "<div>\n",
       "<style scoped>\n",
       "    .dataframe tbody tr th:only-of-type {\n",
       "        vertical-align: middle;\n",
       "    }\n",
       "\n",
       "    .dataframe tbody tr th {\n",
       "        vertical-align: top;\n",
       "    }\n",
       "\n",
       "    .dataframe thead th {\n",
       "        text-align: right;\n",
       "    }\n",
       "</style>\n",
       "<table border=\"1\" class=\"dataframe\">\n",
       "  <thead>\n",
       "    <tr style=\"text-align: right;\">\n",
       "      <th></th>\n",
       "      <th>point0</th>\n",
       "      <th>point1</th>\n",
       "      <th>point2</th>\n",
       "      <th>point3</th>\n",
       "      <th>geometry</th>\n",
       "    </tr>\n",
       "  </thead>\n",
       "  <tbody>\n",
       "    <tr>\n",
       "      <th>point0</th>\n",
       "      <td>0.0</td>\n",
       "      <td>0.0</td>\n",
       "      <td>0.0</td>\n",
       "      <td>5.0</td>\n",
       "      <td>POINT (-1 1)</td>\n",
       "    </tr>\n",
       "    <tr>\n",
       "      <th>point1</th>\n",
       "      <td>0.0</td>\n",
       "      <td>0.0</td>\n",
       "      <td>0.0</td>\n",
       "      <td>6.0</td>\n",
       "      <td>POINT (-1 -1)</td>\n",
       "    </tr>\n",
       "    <tr>\n",
       "      <th>point2</th>\n",
       "      <td>0.0</td>\n",
       "      <td>0.0</td>\n",
       "      <td>0.0</td>\n",
       "      <td>0.0</td>\n",
       "      <td>POINT (0 0)</td>\n",
       "    </tr>\n",
       "    <tr>\n",
       "      <th>point3</th>\n",
       "      <td>5.0</td>\n",
       "      <td>6.0</td>\n",
       "      <td>0.0</td>\n",
       "      <td>0.0</td>\n",
       "      <td>POINT (1 0)</td>\n",
       "    </tr>\n",
       "  </tbody>\n",
       "</table>\n",
       "</div>"
      ],
      "text/plain": [
       "       point0 point1 point2 point3       geometry\n",
       "point0    0.0    0.0    0.0    5.0   POINT (-1 1)\n",
       "point1    0.0    0.0    0.0    6.0  POINT (-1 -1)\n",
       "point2    0.0    0.0    0.0    0.0    POINT (0 0)\n",
       "point3    5.0    6.0    0.0    0.0    POINT (1 0)"
      ]
     },
     "execution_count": 3,
     "metadata": {},
     "output_type": "execute_result"
    }
   ],
   "source": [
    "df"
   ]
  },
  {
   "cell_type": "markdown",
   "metadata": {},
   "source": [
    "        Note that the demand D_ij must be considered with i-column and j-row."
   ]
  },
  {
   "cell_type": "code",
   "execution_count": 4,
   "metadata": {},
   "outputs": [
    {
     "data": {
      "text/html": [
       "<div>\n",
       "<style scoped>\n",
       "    .dataframe tbody tr th:only-of-type {\n",
       "        vertical-align: middle;\n",
       "    }\n",
       "\n",
       "    .dataframe tbody tr th {\n",
       "        vertical-align: top;\n",
       "    }\n",
       "\n",
       "    .dataframe thead th {\n",
       "        text-align: right;\n",
       "    }\n",
       "</style>\n",
       "<table border=\"1\" class=\"dataframe\">\n",
       "  <thead>\n",
       "    <tr style=\"text-align: right;\">\n",
       "      <th></th>\n",
       "      <th>point0</th>\n",
       "      <th>point1</th>\n",
       "      <th>point2</th>\n",
       "      <th>point3</th>\n",
       "      <th>geometry</th>\n",
       "      <th>total_outflow</th>\n",
       "      <th>total_inflow</th>\n",
       "    </tr>\n",
       "  </thead>\n",
       "  <tbody>\n",
       "    <tr>\n",
       "      <th>point0</th>\n",
       "      <td>0.0</td>\n",
       "      <td>2.0</td>\n",
       "      <td>1.414214</td>\n",
       "      <td>2.236068</td>\n",
       "      <td>POINT (-1.00000 1.00000)</td>\n",
       "      <td>5.0</td>\n",
       "      <td>5.0</td>\n",
       "    </tr>\n",
       "    <tr>\n",
       "      <th>point1</th>\n",
       "      <td>2.0</td>\n",
       "      <td>0.0</td>\n",
       "      <td>1.414214</td>\n",
       "      <td>2.236068</td>\n",
       "      <td>POINT (-1.00000 -1.00000)</td>\n",
       "      <td>6.0</td>\n",
       "      <td>6.0</td>\n",
       "    </tr>\n",
       "    <tr>\n",
       "      <th>point2</th>\n",
       "      <td>1.414214</td>\n",
       "      <td>1.414214</td>\n",
       "      <td>0.0</td>\n",
       "      <td>1.0</td>\n",
       "      <td>POINT (0.00000 0.00000)</td>\n",
       "      <td>0.0</td>\n",
       "      <td>0.0</td>\n",
       "    </tr>\n",
       "    <tr>\n",
       "      <th>point3</th>\n",
       "      <td>2.236068</td>\n",
       "      <td>2.236068</td>\n",
       "      <td>1.0</td>\n",
       "      <td>0.0</td>\n",
       "      <td>POINT (1.00000 0.00000)</td>\n",
       "      <td>11.0</td>\n",
       "      <td>11.0</td>\n",
       "    </tr>\n",
       "  </tbody>\n",
       "</table>\n",
       "</div>"
      ],
      "text/plain": [
       "          point0    point1    point2    point3                   geometry  \\\n",
       "point0       0.0       2.0  1.414214  2.236068   POINT (-1.00000 1.00000)   \n",
       "point1       2.0       0.0  1.414214  2.236068  POINT (-1.00000 -1.00000)   \n",
       "point2  1.414214  1.414214       0.0       1.0    POINT (0.00000 0.00000)   \n",
       "point3  2.236068  2.236068       1.0       0.0    POINT (1.00000 0.00000)   \n",
       "\n",
       "       total_outflow  total_inflow  \n",
       "point0           5.0           5.0  \n",
       "point1           6.0           6.0  \n",
       "point2           0.0           0.0  \n",
       "point3          11.0          11.0  "
      ]
     },
     "execution_count": 4,
     "metadata": {},
     "output_type": "execute_result"
    }
   ],
   "source": [
    "gdf"
   ]
  },
  {
   "cell_type": "code",
   "execution_count": 5,
   "metadata": {},
   "outputs": [],
   "source": [
    "# create a pandas dataframe with just the coordinates\n",
    "pos = pd.DataFrame(coords, columns=['geometry'], index=df.index)\n",
    "pos = gpd.GeoDataFrame(pos, geometry='geometry')"
   ]
  },
  {
   "cell_type": "code",
   "execution_count": 6,
   "metadata": {},
   "outputs": [
    {
     "data": {
      "image/png": "[encoded data removed]",
      "text/plain": [
       "<Figure size 640x480 with 3 Axes>"
      ]
     },
     "metadata": {},
     "output_type": "display_data"
    }
   ],
   "source": [
    "fig, ax = plt.subplots(1, 3)\n",
    "gdf.plot(ax=ax[0])\n",
    "ax[0].set_title(\"Nodes\")\n",
    "gdf.plot(markersize=(gdf[\"total_inflow\"]**2).tolist(), ax=ax[1])\n",
    "ax[1].set_title(\"Inflow\")\n",
    "gdf.plot(markersize=(gdf[\"total_outflow\"]**2).tolist(), ax=ax[2])\n",
    "ax[2].set_title(\"Outflow\")\n",
    "plt.show()"
   ]
  },
  {
   "cell_type": "code",
   "execution_count": 7,
   "metadata": {},
   "outputs": [
    {
     "data": {
      "image/png": "[encoded data removed]",
      "text/plain": [
       "<Figure size 640x480 with 1 Axes>"
      ]
     },
     "metadata": {},
     "output_type": "display_data"
    }
   ],
   "source": [
    "gdf[\"name\"] = gdf.index.tolist()\n",
    "ax = gdf.plot()\n",
    "\n",
    "for x, y, label in zip(gdf.geometry.x, gdf.geometry.y, gdf.name):\n",
    "    ax.annotate(label, xy=(x, y), xytext=(3, 3), textcoords=\"offset points\")\n",
    "    \n",
    "gdf.drop(\"name\", axis=1, inplace=True)"
   ]
  },
  {
   "cell_type": "code",
   "execution_count": 8,
   "metadata": {},
   "outputs": [
    {
     "data": {
      "text/html": [
       "<div>\n",
       "<style scoped>\n",
       "    .dataframe tbody tr th:only-of-type {\n",
       "        vertical-align: middle;\n",
       "    }\n",
       "\n",
       "    .dataframe tbody tr th {\n",
       "        vertical-align: top;\n",
       "    }\n",
       "\n",
       "    .dataframe thead th {\n",
       "        text-align: right;\n",
       "    }\n",
       "</style>\n",
       "<table border=\"1\" class=\"dataframe\">\n",
       "  <thead>\n",
       "    <tr style=\"text-align: right;\">\n",
       "      <th></th>\n",
       "      <th>cap</th>\n",
       "      <th>cost</th>\n",
       "      <th>max_dist</th>\n",
       "      <th>land_cost</th>\n",
       "    </tr>\n",
       "  </thead>\n",
       "  <tbody>\n",
       "    <tr>\n",
       "      <th>noplane</th>\n",
       "      <td>0</td>\n",
       "      <td>0</td>\n",
       "      <td>4.0</td>\n",
       "      <td>0</td>\n",
       "    </tr>\n",
       "    <tr>\n",
       "      <th>plane1</th>\n",
       "      <td>5</td>\n",
       "      <td>2</td>\n",
       "      <td>1.5</td>\n",
       "      <td>5</td>\n",
       "    </tr>\n",
       "    <tr>\n",
       "      <th>plane2</th>\n",
       "      <td>10</td>\n",
       "      <td>3</td>\n",
       "      <td>4.0</td>\n",
       "      <td>5</td>\n",
       "    </tr>\n",
       "  </tbody>\n",
       "</table>\n",
       "</div>"
      ],
      "text/plain": [
       "         cap  cost  max_dist  land_cost\n",
       "noplane    0     0       4.0          0\n",
       "plane1     5     2       1.5          5\n",
       "plane2    10     3       4.0          5"
      ]
     },
     "execution_count": 8,
     "metadata": {},
     "output_type": "execute_result"
    }
   ],
   "source": [
    "planes_df = pd.DataFrame(index=[\"plane1\",\"plane2\"])\n",
    "\n",
    "planes_df[\"cap\"] = [5,10]\n",
    "planes_df[\"cost\"] = [2, 3]\n",
    "planes_df[\"max_dist\"] = [1.5, 4]\n",
    "planes_df[\"land_cost\"] = [5, 5]\n",
    "\n",
    "#add a zero plane:\n",
    "zero_plane = pd.DataFrame(index=[\"noplane\"])\n",
    "zero_plane[\"cap\"] = 0\n",
    "zero_plane[\"cost\"] = 0\n",
    "zero_plane[\"max_dist\"] = planes_df[\"max_dist\"].max()\n",
    "zero_plane[\"land_cost\"] = 0\n",
    "planes_df = pd.concat([zero_plane, planes_df], ignore_index=False)\n",
    "\n",
    "planes_df"
   ]
  },
  {
   "cell_type": "code",
   "execution_count": 9,
   "metadata": {},
   "outputs": [],
   "source": [
    "planes = [n for n in planes_df.index.tolist()]\n",
    "nodes = [i for i in df.index.tolist()]\n",
    "\n",
    "\n",
    "    \n",
    "max_dist = planes_df[\"max_dist\"].max()\n",
    "for node in nodes:\n",
    "    min_dist = gdf[node].astype(float).nsmallest(2).tolist()[-1]\n",
    "    if min_dist > max_dist:\n",
    "        print(node, \"is to far away from the system\")\n",
    "        \n",
    "\n",
    "arcs = [(i,j) for i in nodes for j in nodes if i!=j] #check all arcs\n",
    "D_ij = {} #length of arc i,j\n",
    "N_ij = {} #planes available between i and j\n",
    "poss_arcs = [] #only use possible arcs\n",
    "for tup in arcs:\n",
    "    dist_ij = gdf[tup[0]][tup[1]] #length of arc\n",
    "    n_list = []\n",
    "    for plane in planes: #check if there are any planes that \n",
    "        if planes_df[\"max_dist\"][plane]>dist_ij:\n",
    "            n_list.append(plane)\n",
    "    if len(n_list) > 0:\n",
    "        poss_arcs.append(tup)\n",
    "        D_ij[tup] = dist_ij\n",
    "        N_ij[tup] = n_list\n",
    "\n",
    "all_arcs = arcs\n",
    "arcs = poss_arcs #only use possible arcs\n",
    "\n",
    "commodities = [h for h in nodes]\n",
    "W_h_i = {} #demand of commodity h at node i\n",
    "\n",
    "for node in nodes:\n",
    "    com = node\n",
    "    total_flow_in = df[node].sum()\n",
    "    W_h_i[(com, node)] = -total_flow_in\n",
    "    \n",
    "    for com in nodes:\n",
    "        if com != node:\n",
    "            flow_out = df[node][com]\n",
    "            W_h_i[(com,node)] = flow_out\n",
    "\n",
    "\n",
    "K_n = {}\n",
    "C_n = {}\n",
    "Cl_n = {}\n",
    "for plane in planes:\n",
    "    K_n[plane] = planes_df[\"cap\"][plane]\n",
    "    C_n[plane] = planes_df[\"cost\"][plane]\n",
    "    Cl_n[plane] = planes_df[\"land_cost\"][plane]\n",
    "\n",
    "\n",
    "arc_plane_n_ij = [(n,i,j) for (i,j) in arcs for n in N_ij[(i,j)]]\n",
    "\n",
    "C_n_ij = {}\n",
    "for (n,i,j) in arc_plane_n_ij:\n",
    "    C_n_ij[(n,i,j)] = C_n[n]*D_ij[(i,j)]\n",
    "\n",
    "\n",
    "CN_ij = {} #continous cost\n",
    "KN_ij = {} #\n",
    "Cl_N = {}\n",
    "for arc in arcs:\n",
    "    if len(N_ij[arc])>0:\n",
    "        plane = N_ij[arc][-1]\n",
    "        KN_ij[arc] = K_n[plane]\n",
    "        P_N = C_n[plane]*D_ij[arc]\n",
    "        CN_ij[arc] = P_N\n",
    "        Cl_N[arc] = planes_df[\"land_cost\"][plane]\n",
    "    else:\n",
    "        KN_ij[arc] = 0\n",
    "        CN_ij[arc] = 0\n",
    "        Cl_N[arc] = 0\n",
    "\n",
    "\n",
    "\n",
    "M = 0\n",
    "for node in nodes:\n",
    "    od = df[node].sum()\n",
    "    M += od\n",
    "    \n",
    "M = np.ceil(M) + 1 #np.ceil(M/planes_df[\"cap\"].max()) + 1  #max(max(KN_ij.values()), M) + 1\n",
    "\n",
    "M_low = np.ceil(M/planes_df[\"cap\"].max()) + 1  #max(max(KN_ij.values()), M) + 1\n"
   ]
  },
  {
   "cell_type": "code",
   "execution_count": 10,
   "metadata": {},
   "outputs": [
    {
     "name": "stdout",
     "output_type": "stream",
     "text": [
      "Set parameter Username\n",
      "Academic license - for non-commercial use only - expires 2024-10-01\n"
     ]
    },
    {
     "name": "stdout",
     "output_type": "stream",
     "text": [
      "Gurobi Optimizer version 9.5.2 build v9.5.2rc0 (win64)\n",
      "Thread count: 4 physical cores, 8 logical processors, using up to 8 threads\n",
      "Optimize a model with 142 rows, 114 columns and 420 nonzeros\n",
      "Model fingerprint: 0x87de63fb\n",
      "Variable types: 60 continuous, 54 integer (42 binary)\n",
      "Coefficient statistics:\n",
      "  Matrix range     [1e+00, 2e+01]\n",
      "  Objective range  [7e+00, 1e+01]\n",
      "  Bounds range     [1e+00, 4e+00]\n",
      "  RHS range        [1e+00, 1e+01]\n",
      "Found heuristic solution: objective 114.1465242\n",
      "Presolve removed 60 rows and 33 columns\n",
      "Presolve time: 0.03s\n",
      "Presolved: 82 rows, 81 columns, 291 nonzeros\n",
      "Variable types: 60 continuous, 21 integer (15 binary)\n",
      "Found heuristic solution: objective 46.8328157\n",
      "\n",
      "Root relaxation: objective 2.575805e+01, 26 iterations, 0.01 seconds (0.00 work units)\n",
      "\n",
      "    Nodes    |    Current Node    |     Objective Bounds      |     Work\n",
      " Expl Unexpl |  Obj  Depth IntInf | Incumbent    BestBd   Gap | It/Node Time\n",
      "\n",
      "     0     0   25.75805    0    3   46.83282   25.75805  45.0%     -    0s\n",
      "     0     0   36.57586    0    6   46.83282   36.57586  21.9%     -    0s\n",
      "     0     0   46.83282    0    8   46.83282   46.83282  0.00%     -    0s\n",
      "\n",
      "Cutting planes:\n",
      "  Gomory: 2\n",
      "  Implied bound: 1\n",
      "  MIR: 7\n",
      "  Flow cover: 14\n",
      "  Network: 1\n",
      "\n",
      "Explored 1 nodes (67 simplex iterations) in 0.12 seconds (0.00 work units)\n",
      "Thread count was 8 (of 8 available processors)\n",
      "\n",
      "Solution count 2: 46.8328 114.147 \n",
      "\n",
      "Optimal solution found (tolerance 1.00e-04)\n",
      "Best objective 4.683281573000e+01, best bound 4.683281573000e+01, gap 0.0000%\n",
      "Obj: 46.8328\n"
     ]
    }
   ],
   "source": [
    "#model\n",
    "try:\n",
    "    m = gp.Model(\"airfleet\")\n",
    "    \n",
    "    ###Variables:\n",
    "    \n",
    "    \n",
    "    # Create variables\n",
    "    f = m.addVars(commodities, arcs, name=\"F\")\n",
    "    g = m.addVars(arcs, vtype=GRB.BINARY, name=\"G\") \n",
    "    a = m.addVars(arc_plane_n_ij, vtype=GRB.BINARY, name=\"A\")\n",
    "    ag = m.addVars(arcs, ub=M_low, vtype=GRB.INTEGER, name=\"AG\")\n",
    "    #u = m.addVars(arcs, name=\"U\")\n",
    "    #u_help = m.addVars(arcs, lb=-M, name=\"U_help\")\n",
    "    f_arc = m.addVars(arcs, name = \"farc\")\n",
    "    #z_help = m.addVars(arcs, name=\"z_help\") \n",
    "    #hub_help = m.addVars(nodes, name=\"hub_help\")\n",
    "    #hub = m.addVars(nodes, vtype=GRB.BINARY, name=\"hub\")\n",
    "    \n",
    "    obj = a.prod(C_n_ij) + ag.prod(CN_ij) + ag.prod(Cl_N) + sum(sum(Cl_n[n]*a[n,i,j] for n in N_ij[(i,j)]) for (i,j) in arcs) \n",
    "    \n",
    "    \n",
    "    #Objective function (a)\n",
    "    m.setObjective(obj, GRB.MINIMIZE)\n",
    "\n",
    "    # Flow-conservation constraints\n",
    "    m.addConstrs(\n",
    "        (f.sum(h, '*', i) + W_h_i[h, i] == f.sum(h, i, '*')\n",
    "         for h in commodities for i in nodes), \"node\")\n",
    "    \n",
    "    #F assign total flow on arc\n",
    "    m.addConstrs((f_arc[i,j] == f.sum(\"*\", i, j) for (i,j) in arcs), \"H\")\n",
    "\n",
    "    \n",
    "    #G see if we use more than one plane:\n",
    "    m.addConstrs((g[i,j]*M >= f_arc[i,j] - KN_ij[(i,j)] for (i,j) in arcs), \"8a\")    # g=1 if flow> max capacity\n",
    "    m.addConstrs(((1-g[i,j])*M >= KN_ij[(i,j)]- f_arc[i,j] for (i,j) in arcs), \"8b\") # g=0 if flow < max capacity\n",
    "    \n",
    "    #A pick a plane\n",
    "    m.addConstrs((f_arc[i,j] <= sum(K_n[n]*a[n,i,j] for n in N_ij[(i,j)]) + KN_ij[i,j]*ag[i,j] for (i,j) in arcs), \"9b\") # ensure flow < capacity of the chosen plane\n",
    "    m.addConstrs((sum(a[n,i,j] for n in N_ij[(i,j)]) + g[i,j] == 1 for (i,j) in arcs), \"9a\") # pick ONE plane OR pick ag\n",
    "    \n",
    "    \n",
    "    m.addConstrs(M_low*g[i,j] >= ag[i,j] for (i,j) in arcs) #ensure that if you pick ag, then g = 1 \n",
    "    m.addConstrs(M_low*(1-g[i,j]) >= -ag[i,j] + 0.0001 for (i,j) in arcs) #else 0\n",
    "    \n",
    "    #fly the plane back\n",
    "    #this will become infeasible when symmetry is not ensured\n",
    "    m.addConstrs(a[n,i,j] == a[n,j,i] for (n,i,j) in arc_plane_n_ij)\n",
    "    m.addConstrs(ag[i,j] == ag[j,i] for (i,j) in arcs)\n",
    "    \n",
    "    \n",
    "    \n",
    "    #U calculate how much flow should be covered by \"plane g\", i.e. with continous flow (all or nothing)\n",
    "    #m.addConstrs((u_help[i,j] == f_arc[i,j] - sum(K_n[n]*a[n,i,j] for n in N_ij[(i,j)]) for (i,j) in arcs), \"10\") \n",
    "    #for i,j in arcs:\n",
    "    #    m.addConstr((u[i,j] == gp.max_(u_help[i,j], constant=0))) # u = 0 if a plane \"a\" was chosen\n",
    "                                                                  # u = f_arc if \"g\" was chosen \n",
    "\n",
    "    #HUB \n",
    "    # keep track of which arcs are being used\n",
    "    #m.addConstrs((z_help[i,j] == sum(a[n,i,j] for n in N_ij[(i,j)][1::]) for (i,j) in arcs), \"10\")  # if a plane besides \"noplane\" or was chosen\n",
    "                                                                                                    # this arc is being used\n",
    "    # compute the total amount of arcs going into and out of each node\n",
    "    #m.addConstrs((hub_help[i] == z_help.sum(i,\"*\") + z_help.sum(\"*\",i) for i in nodes), \"12a\")\n",
    "    \n",
    "    # assign hub-status\n",
    "    #M_nodes = (len(nodes) + 1)*2 # Just a value that will always be higher than hub_help\n",
    "    #m.addConstrs((hub[i]*M_nodes >= hub_help[i]-2  for i in nodes), \"12b\")             # if \"nodes in and out\" > 2, hub=1\n",
    "    #m.addConstrs(((1-hub[i])*M_nodes >= 2-hub_help[i] + 0.001 for i in nodes), \"12c\")  # if \"nodes in and out\" <= 2, hub=0\n",
    "    \n",
    "    \n",
    "    m.optimize()\n",
    "    #for v in m.getVars():\n",
    "    #    print('%s %g' % (v.VarName, v.X))\n",
    "    \n",
    "    print('Obj: %g' % m.ObjVal)\n",
    "\n",
    "except gp.GurobiError as e:\n",
    "    print('Error code ' + str(e.errno) + ': ' + str(e))\n",
    "\n",
    "except AttributeError:\n",
    "    print('Encountered an attribute error')"
   ]
  },
  {
   "cell_type": "code",
   "execution_count": 11,
   "metadata": {},
   "outputs": [],
   "source": [
    "# retrieve hubs\n",
    "# z_s = np.array(m.getAttr(\"X\", z.values())).reshape((n_nodes,n_nodes))\n",
    "# z_s = z_s.round(1)\n",
    "\n",
    "# find value True for each row (representing the corresponding hub)\n",
    "# gdf[\"hub\"] = np.argmax(z_s, axis=1) == range(n_nodes)\n",
    "\n",
    "# retrieve flow solution\n",
    "f_arc_s = m.getAttr(\"X\", f_arc)\n",
    "\n",
    "# retrieve which legs are flown by which plane\n",
    "a_s = m.getAttr(\"X\", a)\n",
    "a_sd = {(o, d): plane for (plane, o, d), v in a_s.items() if v != 0}\n",
    "g_s = m.getAttr(\"X\", g)\n",
    "g_sd = {k: \"over\" for k, v in g_s.items() if v != 0}\n",
    "\n",
    "# note that the legs are not always doable by the plane, so we need to check that before counting the number of legs by planes\n",
    "planes_leg = {**a_sd, **g_sd}"
   ]
  },
  {
   "cell_type": "code",
   "execution_count": 12,
   "metadata": {},
   "outputs": [],
   "source": [
    "i = 0\n",
    "\n",
    "flow_dic = {}\n",
    "hub_dic = {}\n",
    "for node in df.index.tolist():\n",
    "    flow_dic[node] = 0\n",
    "    hub_dic[node] = 0\n",
    "\n",
    "for key, val in m.getAttr(\"X\", f).items():\n",
    "    com = key[0]\n",
    "    nod0 = key[1]\n",
    "    nod1 = key[2]\n",
    "    if com != nod1:\n",
    "        flow_dic[nod1] += val\n",
    "        if val > 1:\n",
    "            try:\n",
    "                plane = a_sd[nod0,nod1]\n",
    "            except:\n",
    "                plane = planes[-1]\n",
    "#            if com==nod0:\n",
    "#                print(key, val)\n",
    "            if plane == planes[-1]:\n",
    "                hub_dic[nod1] +=1\n",
    "pos[\"fin_flow\"] = flow_dic.values()\n",
    "\n",
    "pos[\"hub\"] = hub_dic.values()\n",
    "pos[\"hub\"] = pos[\"hub\"] >= 1"
   ]
  },
  {
   "cell_type": "code",
   "execution_count": 13,
   "metadata": {},
   "outputs": [
    {
     "data": {
      "text/plain": [
       "{'point0': 0, 'point1': 0, 'point2': 0, 'point3': 0}"
      ]
     },
     "execution_count": 13,
     "metadata": {},
     "output_type": "execute_result"
    }
   ],
   "source": [
    "hub_dic"
   ]
  },
  {
   "cell_type": "code",
   "execution_count": 14,
   "metadata": {},
   "outputs": [
    {
     "data": {
      "image/png": "[encoded data removed]",
      "text/plain": [
       "<Figure size 2000x500 with 4 Axes>"
      ]
     },
     "metadata": {},
     "output_type": "display_data"
    }
   ],
   "source": [
    "fig, ax = plt.subplots(1, len(planes)+1, figsize=(20,5))\n",
    "\n",
    "for j, plane in enumerate(planes+[\"over\"]):\n",
    "    # Plot nodes with edges with the hubs\n",
    "    sns.scatterplot(x=pos[\"geometry\"].x, y=pos[\"geometry\"].y, s=200, hue=pos['hub'], legend=True, ax=ax[j])\n",
    "    for i, point in pos.iterrows():\n",
    "        ax[j].text(point[\"geometry\"].x +.03, point[\"geometry\"].y + 0.03, str(i))\n",
    "        \n",
    "\n",
    "    # Now connect the legs with lines\n",
    "    cmap = plt.get_cmap('tab10')\n",
    "    colors = cmap(np.linspace(0, 1, len(planes)+1))\n",
    "    p_to_c = {p:c for p,c in zip(planes + ['over'], colors)}\n",
    "\n",
    "    for p,q in arcs:\n",
    "        if planes_leg[p,q] == plane:\n",
    "            ax[j].arrow(gdf.geometry[p].x, gdf.geometry[p].y, gdf.geometry[q].x - gdf.geometry[p].x, gdf.geometry[q].y - gdf.geometry[p].y, width=f_arc_s[p,q]*0.005, length_includes_head=True, color=p_to_c[planes_leg[p,q]], alpha=0.5)\n",
    "    ax[j].set_title(plane)\n",
    "\n",
    "# show colorbar for planes\n",
    "# cbar = fig.colorbar(mappable=ScalarMappable(cmap=cmap), ticks=np.linspace(0, 1, len(planes)+1))\n",
    "# cbar.ax.set_yticklabels(planes + ['over']);"
   ]
  },
  {
   "cell_type": "code",
   "execution_count": 15,
   "metadata": {},
   "outputs": [
    {
     "data": {
      "text/html": [
       "<div>\n",
       "<style scoped>\n",
       "    .dataframe tbody tr th:only-of-type {\n",
       "        vertical-align: middle;\n",
       "    }\n",
       "\n",
       "    .dataframe tbody tr th {\n",
       "        vertical-align: top;\n",
       "    }\n",
       "\n",
       "    .dataframe thead th {\n",
       "        text-align: right;\n",
       "    }\n",
       "</style>\n",
       "<table border=\"1\" class=\"dataframe\">\n",
       "  <thead>\n",
       "    <tr style=\"text-align: right;\">\n",
       "      <th></th>\n",
       "      <th>point0</th>\n",
       "      <th>point1</th>\n",
       "      <th>point2</th>\n",
       "      <th>point3</th>\n",
       "      <th>geometry</th>\n",
       "    </tr>\n",
       "  </thead>\n",
       "  <tbody>\n",
       "    <tr>\n",
       "      <th>point0</th>\n",
       "      <td>0.0</td>\n",
       "      <td>0.0</td>\n",
       "      <td>0.0</td>\n",
       "      <td>5.0</td>\n",
       "      <td>POINT (-1 1)</td>\n",
       "    </tr>\n",
       "    <tr>\n",
       "      <th>point1</th>\n",
       "      <td>0.0</td>\n",
       "      <td>0.0</td>\n",
       "      <td>0.0</td>\n",
       "      <td>6.0</td>\n",
       "      <td>POINT (-1 -1)</td>\n",
       "    </tr>\n",
       "    <tr>\n",
       "      <th>point2</th>\n",
       "      <td>0.0</td>\n",
       "      <td>0.0</td>\n",
       "      <td>0.0</td>\n",
       "      <td>0.0</td>\n",
       "      <td>POINT (0 0)</td>\n",
       "    </tr>\n",
       "    <tr>\n",
       "      <th>point3</th>\n",
       "      <td>5.0</td>\n",
       "      <td>6.0</td>\n",
       "      <td>0.0</td>\n",
       "      <td>0.0</td>\n",
       "      <td>POINT (1 0)</td>\n",
       "    </tr>\n",
       "  </tbody>\n",
       "</table>\n",
       "</div>"
      ],
      "text/plain": [
       "       point0 point1 point2 point3       geometry\n",
       "point0    0.0    0.0    0.0    5.0   POINT (-1 1)\n",
       "point1    0.0    0.0    0.0    6.0  POINT (-1 -1)\n",
       "point2    0.0    0.0    0.0    0.0    POINT (0 0)\n",
       "point3    5.0    6.0    0.0    0.0    POINT (1 0)"
      ]
     },
     "execution_count": 15,
     "metadata": {},
     "output_type": "execute_result"
    }
   ],
   "source": [
    "df"
   ]
  },
  {
   "cell_type": "code",
   "execution_count": 16,
   "metadata": {},
   "outputs": [
    {
     "data": {
      "text/html": [
       "<div>\n",
       "<style scoped>\n",
       "    .dataframe tbody tr th:only-of-type {\n",
       "        vertical-align: middle;\n",
       "    }\n",
       "\n",
       "    .dataframe tbody tr th {\n",
       "        vertical-align: top;\n",
       "    }\n",
       "\n",
       "    .dataframe thead th {\n",
       "        text-align: right;\n",
       "    }\n",
       "</style>\n",
       "<table border=\"1\" class=\"dataframe\">\n",
       "  <thead>\n",
       "    <tr style=\"text-align: right;\">\n",
       "      <th></th>\n",
       "      <th>cap</th>\n",
       "      <th>cost</th>\n",
       "      <th>max_dist</th>\n",
       "      <th>land_cost</th>\n",
       "    </tr>\n",
       "  </thead>\n",
       "  <tbody>\n",
       "    <tr>\n",
       "      <th>noplane</th>\n",
       "      <td>0</td>\n",
       "      <td>0</td>\n",
       "      <td>4.0</td>\n",
       "      <td>0</td>\n",
       "    </tr>\n",
       "    <tr>\n",
       "      <th>plane1</th>\n",
       "      <td>5</td>\n",
       "      <td>2</td>\n",
       "      <td>1.5</td>\n",
       "      <td>5</td>\n",
       "    </tr>\n",
       "    <tr>\n",
       "      <th>plane2</th>\n",
       "      <td>10</td>\n",
       "      <td>3</td>\n",
       "      <td>4.0</td>\n",
       "      <td>5</td>\n",
       "    </tr>\n",
       "  </tbody>\n",
       "</table>\n",
       "</div>"
      ],
      "text/plain": [
       "         cap  cost  max_dist  land_cost\n",
       "noplane    0     0       4.0          0\n",
       "plane1     5     2       1.5          5\n",
       "plane2    10     3       4.0          5"
      ]
     },
     "execution_count": 16,
     "metadata": {},
     "output_type": "execute_result"
    }
   ],
   "source": [
    "planes_df"
   ]
  },
  {
   "cell_type": "code",
   "execution_count": 17,
   "metadata": {},
   "outputs": [
    {
     "data": {
      "text/plain": [
       "{('noplane', 'point0', 'point1'): 0.0,\n",
       " ('plane2', 'point0', 'point1'): 6.0,\n",
       " ('noplane', 'point0', 'point2'): 0.0,\n",
       " ('plane1', 'point0', 'point2'): 2.8284271247461903,\n",
       " ('plane2', 'point0', 'point2'): 4.242640687119286,\n",
       " ('noplane', 'point0', 'point3'): 0.0,\n",
       " ('plane2', 'point0', 'point3'): 6.708203932499369,\n",
       " ('noplane', 'point1', 'point0'): 0.0,\n",
       " ('plane2', 'point1', 'point0'): 6.0,\n",
       " ('noplane', 'point1', 'point2'): 0.0,\n",
       " ('plane1', 'point1', 'point2'): 2.8284271247461903,\n",
       " ('plane2', 'point1', 'point2'): 4.242640687119286,\n",
       " ('noplane', 'point1', 'point3'): 0.0,\n",
       " ('plane2', 'point1', 'point3'): 6.708203932499369,\n",
       " ('noplane', 'point2', 'point0'): 0.0,\n",
       " ('plane1', 'point2', 'point0'): 2.8284271247461903,\n",
       " ('plane2', 'point2', 'point0'): 4.242640687119286,\n",
       " ('noplane', 'point2', 'point1'): 0.0,\n",
       " ('plane1', 'point2', 'point1'): 2.8284271247461903,\n",
       " ('plane2', 'point2', 'point1'): 4.242640687119286,\n",
       " ('noplane', 'point2', 'point3'): 0.0,\n",
       " ('plane1', 'point2', 'point3'): 2.0,\n",
       " ('plane2', 'point2', 'point3'): 3.0,\n",
       " ('noplane', 'point3', 'point0'): 0.0,\n",
       " ('plane2', 'point3', 'point0'): 6.708203932499369,\n",
       " ('noplane', 'point3', 'point1'): 0.0,\n",
       " ('plane2', 'point3', 'point1'): 6.708203932499369,\n",
       " ('noplane', 'point3', 'point2'): 0.0,\n",
       " ('plane1', 'point3', 'point2'): 2.0,\n",
       " ('plane2', 'point3', 'point2'): 3.0}"
      ]
     },
     "execution_count": 17,
     "metadata": {},
     "output_type": "execute_result"
    }
   ],
   "source": [
    "C_n_ij"
   ]
  },
  {
   "cell_type": "code",
   "execution_count": 18,
   "metadata": {},
   "outputs": [
    {
     "data": {
      "text/plain": [
       "{('point0', 'point1'): 0.0,\n",
       " ('point0', 'point2'): 0.0,\n",
       " ('point0', 'point3'): 5.0,\n",
       " ('point1', 'point0'): 0.0,\n",
       " ('point1', 'point2'): 0.0,\n",
       " ('point1', 'point3'): 6.0,\n",
       " ('point2', 'point0'): 0.0,\n",
       " ('point2', 'point1'): 0.0,\n",
       " ('point2', 'point3'): 0.0,\n",
       " ('point3', 'point0'): 5.0,\n",
       " ('point3', 'point1'): 6.0,\n",
       " ('point3', 'point2'): 0.0}"
      ]
     },
     "execution_count": 18,
     "metadata": {},
     "output_type": "execute_result"
    }
   ],
   "source": [
    "f_arc_s"
   ]
  },
  {
   "cell_type": "code",
   "execution_count": 19,
   "metadata": {},
   "outputs": [],
   "source": [
    "# planes_leg_none = planes_leg.copy()\n",
    "# for p,q in arcs:\n",
    "#     if (f_arc_s[p,q] == 0):\n",
    "#         planes_leg_none[p,q] = None\n",
    "# {k: (v, planes_leg_none[k[:-1]], planes_leg_none[k[1:]]) for k, v in m.getAttr(\"X\", y).items() if v > 0}"
   ]
  },
  {
   "cell_type": "code",
   "execution_count": 24,
   "metadata": {},
   "outputs": [
    {
     "data": {
      "image/png": "[encoded data removed]",
      "text/plain": [
       "<Figure size 640x480 with 2 Axes>"
      ]
     },
     "metadata": {},
     "output_type": "display_data"
    }
   ],
   "source": [
    "# create figure larger than the default size to make space for the colorbar\n",
    "# plt.figure(figsize=(11,6))\n",
    "\n",
    "# Plot nodes with edges with the hubs\n",
    "sns.scatterplot(data=pos, x=pos[\"geometry\"].x, y=pos[\"geometry\"].y, s=200, hue='hub', legend=True)\n",
    "for i, point in pos.iterrows():\n",
    "    plt.text(point[\"geometry\"].x +.05, point[\"geometry\"].y + 0.05, str(i))\n",
    "    \n",
    "\n",
    "# Now connect the legs with lines\n",
    "# make numpy array of colors for each plane\n",
    "cmap = plt.get_cmap('viridis', len(planes))\n",
    "colors = cmap(np.linspace(0, 1, len(planes)))\n",
    "p_to_c = {p:c for p,c in zip(planes[1:] + ['over'], colors)}\n",
    "\n",
    "for p,q in arcs:\n",
    "    if f_arc_s[p,q] > 0:\n",
    "        plt.arrow(pos.geometry[p].x, pos.geometry[p].y, pos.geometry[q].x - pos.geometry[p].x, pos.geometry[q].y - pos.geometry[p].y, width=f_arc_s[p,q]*0.005, length_includes_head=True, color=p_to_c[planes_leg[p,q]], alpha=0)\n",
    "    \n",
    "# show colorbar for planes\n",
    "from matplotlib.cm import ScalarMappable\n",
    "# plot colormap only in range 0-0.5\n",
    "cbar = plt.colorbar(mappable=ScalarMappable(cmap=cmap), ticks=np.linspace(1/len(planes)/2, 1 - 1/len(planes)/2, len(planes)))\n",
    "cbar.ax.set_yticklabels(planes[1:] + ['over'])\n",
    "\n",
    "# set axis limits\n",
    "plt.xlim([-1.4, 1.4])\n",
    "plt.ylim([-1.4, 1.4])\n",
    "# delete axis ticks\n",
    "plt.xticks([-1, 0, 1])\n",
    "plt.yticks([-1, 0, 1]);\n",
    "\n",
    "plt.tight_layout()"
   ]
  },
  {
   "cell_type": "code",
   "execution_count": 21,
   "metadata": {},
   "outputs": [
    {
     "data": {
      "text/plain": [
       "{'noplane': 0, 'plane1': 0, 'plane2': 4, 'over': 0}"
      ]
     },
     "execution_count": 21,
     "metadata": {},
     "output_type": "execute_result"
    }
   ],
   "source": [
    "# count the number of legs by plane\n",
    "legs_by_plane = {plane:0 for plane in planes+[\"over\"]}\n",
    "for p,q in arcs:\n",
    "    legs_by_plane[planes_leg[p,q]] += 1 * (f_arc_s[p,q] != 0)\n",
    "legs_by_plane"
   ]
  },
  {
   "cell_type": "code",
   "execution_count": null,
   "metadata": {},
   "outputs": [],
   "source": []
  }
 ],
 "metadata": {
  "kernelspec": {
   "display_name": "Python 3",
   "language": "python",
   "name": "python3"
  },
  "language_info": {
   "codemirror_mode": {
    "name": "ipython",
    "version": 3
   },
   "file_extension": ".py",
   "mimetype": "text/x-python",
   "name": "python",
   "nbconvert_exporter": "python",
   "pygments_lexer": "ipython3",
   "version": "3.8.1"
  },
  "orig_nbformat": 4
 },
 "nbformat": 4,
 "nbformat_minor": 2
}
